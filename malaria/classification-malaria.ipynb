{
 "cells": [
  {
   "cell_type": "code",
   "execution_count": 1,
   "id": "20b8633e",
   "metadata": {
    "execution": {
     "iopub.execute_input": "2024-12-14T08:44:16.108845Z",
     "iopub.status.busy": "2024-12-14T08:44:16.108581Z",
     "iopub.status.idle": "2024-12-14T08:44:20.661296Z",
     "shell.execute_reply": "2024-12-14T08:44:20.660419Z"
    },
    "papermill": {
     "duration": 4.5589,
     "end_time": "2024-12-14T08:44:20.663297",
     "exception": false,
     "start_time": "2024-12-14T08:44:16.104397",
     "status": "completed"
    },
    "tags": []
   },
   "outputs": [],
   "source": [
    "import torch\n",
    "import torch.nn as nn\n",
    "import torch.optim as optim\n",
    "import os\n",
    "from torchvision import models, datasets, transforms\n",
    "from torch.utils.data import DataLoader, random_split\n",
    "import torch.nn.functional as F\n",
    "import matplotlib.pyplot as plt\n",
    "import numpy as np\n",
    "import cv2"
   ]
  },
  {
   "cell_type": "code",
   "execution_count": 2,
   "id": "8963d2e3",
   "metadata": {
    "execution": {
     "iopub.execute_input": "2024-12-14T08:44:20.671922Z",
     "iopub.status.busy": "2024-12-14T08:44:20.671580Z",
     "iopub.status.idle": "2024-12-14T08:44:20.749441Z",
     "shell.execute_reply": "2024-12-14T08:44:20.748488Z"
    },
    "papermill": {
     "duration": 0.084593,
     "end_time": "2024-12-14T08:44:20.751892",
     "exception": false,
     "start_time": "2024-12-14T08:44:20.667299",
     "status": "completed"
    },
    "tags": []
   },
   "outputs": [],
   "source": [
    "# Define the device to use (GPU if available)\n",
    "device = torch.device(\"cuda\" if torch.cuda.is_available() else \"cpu\")\n",
    "device = \"cpu\""
   ]
  },
  {
   "cell_type": "code",
   "execution_count": 3,
   "id": "927d4c0c",
   "metadata": {
    "execution": {
     "iopub.execute_input": "2024-12-14T08:44:20.761437Z",
     "iopub.status.busy": "2024-12-14T08:44:20.760348Z",
     "iopub.status.idle": "2024-12-14T08:44:20.766112Z",
     "shell.execute_reply": "2024-12-14T08:44:20.765184Z"
    },
    "papermill": {
     "duration": 0.011648,
     "end_time": "2024-12-14T08:44:20.768072",
     "exception": false,
     "start_time": "2024-12-14T08:44:20.756424",
     "status": "completed"
    },
    "tags": []
   },
   "outputs": [],
   "source": [
    "from torchvision import datasets, transforms\n",
    "from torch.utils.data import DataLoader, random_split\n",
    "import os\n",
    "\n",
    "# Path to the dataset directory\n",
    "data_dir = '/kaggle/input/cell-images-for-detecting-malaria/cell_images'\n",
    "\n",
    "# Specify the valid class folders explicitly\n",
    "valid_classes = ['Parasitized', 'Uninfected']\n",
    "\n",
    "# Data augmentation and normalization\n",
    "transform = transforms.Compose([\n",
    "    transforms.Resize((128, 128)),\n",
    "    transforms.ToTensor(),\n",
    "])"
   ]
  },
  {
   "cell_type": "code",
   "execution_count": 4,
   "id": "d9b85e52",
   "metadata": {
    "execution": {
     "iopub.execute_input": "2024-12-14T08:44:20.777521Z",
     "iopub.status.busy": "2024-12-14T08:44:20.776991Z",
     "iopub.status.idle": "2024-12-14T08:46:32.218789Z",
     "shell.execute_reply": "2024-12-14T08:46:32.218035Z"
    },
    "papermill": {
     "duration": 131.45246,
     "end_time": "2024-12-14T08:46:32.224810",
     "exception": false,
     "start_time": "2024-12-14T08:44:20.772350",
     "status": "completed"
    },
    "tags": []
   },
   "outputs": [
    {
     "name": "stdout",
     "output_type": "stream",
     "text": [
      "Classes: ['Parasitized', 'Uninfected']\n",
      "Train size: 4000\n",
      "Test size: 1000\n"
     ]
    }
   ],
   "source": [
    "from torch.utils.data import DataLoader, random_split, Subset\n",
    "import os\n",
    "from torchvision import datasets, transforms\n",
    "\n",
    "# Custom FilteredImageFolder class\n",
    "class FilteredImageFolder(datasets.ImageFolder):\n",
    "    def find_classes(self, directory):\n",
    "        classes = [d for d in os.listdir(directory) if d in valid_classes]\n",
    "        classes.sort()\n",
    "        class_to_idx = {cls_name: i for i, cls_name in enumerate(classes)}\n",
    "        return classes, class_to_idx\n",
    "\n",
    "# Load dataset with filtering\n",
    "data_dir = '/kaggle/input/cell-images-for-detecting-malaria/cell_images'  # Replace with your dataset path\n",
    "dataset = FilteredImageFolder(data_dir, transform=transform)\n",
    "\n",
    "# Verify classes\n",
    "print(f\"Classes: {dataset.classes}\")  # Should print: ['Parasitized', 'Uninfected']\n",
    "\n",
    "# Separate indices for each class\n",
    "class_indices = {cls: [] for cls in valid_classes}\n",
    "for idx, (_, label) in enumerate(dataset):\n",
    "    class_name = dataset.classes[label]\n",
    "    class_indices[class_name].append(idx)\n",
    "\n",
    "# Take 2500 samples from each class\n",
    "subset_indices = class_indices['Parasitized'][:2500] + class_indices['Uninfected'][:2500]\n",
    "\n",
    "# Create a subset with balanced classes\n",
    "subset_dataset = Subset(dataset, subset_indices)\n",
    "\n",
    "# Split into train and test sets\n",
    "train_size = 4000\n",
    "test_size = 1000\n",
    "train_dataset, test_dataset = random_split(subset_dataset, [train_size, test_size])\n",
    "\n",
    "# Create DataLoaders\n",
    "train_loader = DataLoader(train_dataset, batch_size=32, shuffle=True)\n",
    "test_loader = DataLoader(test_dataset, batch_size=32, shuffle=False)\n",
    "\n",
    "# Check dataset sizes\n",
    "print(f\"Train size: {len(train_dataset)}\")  # Should print: 4000\n",
    "print(f\"Test size: {len(test_dataset)}\")    # Should print: 1000\n"
   ]
  },
  {
   "cell_type": "code",
   "execution_count": 5,
   "id": "97a54484",
   "metadata": {
    "execution": {
     "iopub.execute_input": "2024-12-14T08:46:32.235998Z",
     "iopub.status.busy": "2024-12-14T08:46:32.235679Z",
     "iopub.status.idle": "2024-12-14T08:46:32.372046Z",
     "shell.execute_reply": "2024-12-14T08:46:32.371269Z"
    },
    "papermill": {
     "duration": 0.144093,
     "end_time": "2024-12-14T08:46:32.374006",
     "exception": false,
     "start_time": "2024-12-14T08:46:32.229913",
     "status": "completed"
    },
    "tags": []
   },
   "outputs": [
    {
     "data": {
      "text/plain": [
       "[tensor([[[[0., 0., 0.,  ..., 0., 0., 0.],\n",
       "           [0., 0., 0.,  ..., 0., 0., 0.],\n",
       "           [0., 0., 0.,  ..., 0., 0., 0.],\n",
       "           ...,\n",
       "           [0., 0., 0.,  ..., 0., 0., 0.],\n",
       "           [0., 0., 0.,  ..., 0., 0., 0.],\n",
       "           [0., 0., 0.,  ..., 0., 0., 0.]],\n",
       " \n",
       "          [[0., 0., 0.,  ..., 0., 0., 0.],\n",
       "           [0., 0., 0.,  ..., 0., 0., 0.],\n",
       "           [0., 0., 0.,  ..., 0., 0., 0.],\n",
       "           ...,\n",
       "           [0., 0., 0.,  ..., 0., 0., 0.],\n",
       "           [0., 0., 0.,  ..., 0., 0., 0.],\n",
       "           [0., 0., 0.,  ..., 0., 0., 0.]],\n",
       " \n",
       "          [[0., 0., 0.,  ..., 0., 0., 0.],\n",
       "           [0., 0., 0.,  ..., 0., 0., 0.],\n",
       "           [0., 0., 0.,  ..., 0., 0., 0.],\n",
       "           ...,\n",
       "           [0., 0., 0.,  ..., 0., 0., 0.],\n",
       "           [0., 0., 0.,  ..., 0., 0., 0.],\n",
       "           [0., 0., 0.,  ..., 0., 0., 0.]]],\n",
       " \n",
       " \n",
       "         [[[0., 0., 0.,  ..., 0., 0., 0.],\n",
       "           [0., 0., 0.,  ..., 0., 0., 0.],\n",
       "           [0., 0., 0.,  ..., 0., 0., 0.],\n",
       "           ...,\n",
       "           [0., 0., 0.,  ..., 0., 0., 0.],\n",
       "           [0., 0., 0.,  ..., 0., 0., 0.],\n",
       "           [0., 0., 0.,  ..., 0., 0., 0.]],\n",
       " \n",
       "          [[0., 0., 0.,  ..., 0., 0., 0.],\n",
       "           [0., 0., 0.,  ..., 0., 0., 0.],\n",
       "           [0., 0., 0.,  ..., 0., 0., 0.],\n",
       "           ...,\n",
       "           [0., 0., 0.,  ..., 0., 0., 0.],\n",
       "           [0., 0., 0.,  ..., 0., 0., 0.],\n",
       "           [0., 0., 0.,  ..., 0., 0., 0.]],\n",
       " \n",
       "          [[0., 0., 0.,  ..., 0., 0., 0.],\n",
       "           [0., 0., 0.,  ..., 0., 0., 0.],\n",
       "           [0., 0., 0.,  ..., 0., 0., 0.],\n",
       "           ...,\n",
       "           [0., 0., 0.,  ..., 0., 0., 0.],\n",
       "           [0., 0., 0.,  ..., 0., 0., 0.],\n",
       "           [0., 0., 0.,  ..., 0., 0., 0.]]],\n",
       " \n",
       " \n",
       "         [[[0., 0., 0.,  ..., 0., 0., 0.],\n",
       "           [0., 0., 0.,  ..., 0., 0., 0.],\n",
       "           [0., 0., 0.,  ..., 0., 0., 0.],\n",
       "           ...,\n",
       "           [0., 0., 0.,  ..., 0., 0., 0.],\n",
       "           [0., 0., 0.,  ..., 0., 0., 0.],\n",
       "           [0., 0., 0.,  ..., 0., 0., 0.]],\n",
       " \n",
       "          [[0., 0., 0.,  ..., 0., 0., 0.],\n",
       "           [0., 0., 0.,  ..., 0., 0., 0.],\n",
       "           [0., 0., 0.,  ..., 0., 0., 0.],\n",
       "           ...,\n",
       "           [0., 0., 0.,  ..., 0., 0., 0.],\n",
       "           [0., 0., 0.,  ..., 0., 0., 0.],\n",
       "           [0., 0., 0.,  ..., 0., 0., 0.]],\n",
       " \n",
       "          [[0., 0., 0.,  ..., 0., 0., 0.],\n",
       "           [0., 0., 0.,  ..., 0., 0., 0.],\n",
       "           [0., 0., 0.,  ..., 0., 0., 0.],\n",
       "           ...,\n",
       "           [0., 0., 0.,  ..., 0., 0., 0.],\n",
       "           [0., 0., 0.,  ..., 0., 0., 0.],\n",
       "           [0., 0., 0.,  ..., 0., 0., 0.]]],\n",
       " \n",
       " \n",
       "         ...,\n",
       " \n",
       " \n",
       "         [[[0., 0., 0.,  ..., 0., 0., 0.],\n",
       "           [0., 0., 0.,  ..., 0., 0., 0.],\n",
       "           [0., 0., 0.,  ..., 0., 0., 0.],\n",
       "           ...,\n",
       "           [0., 0., 0.,  ..., 0., 0., 0.],\n",
       "           [0., 0., 0.,  ..., 0., 0., 0.],\n",
       "           [0., 0., 0.,  ..., 0., 0., 0.]],\n",
       " \n",
       "          [[0., 0., 0.,  ..., 0., 0., 0.],\n",
       "           [0., 0., 0.,  ..., 0., 0., 0.],\n",
       "           [0., 0., 0.,  ..., 0., 0., 0.],\n",
       "           ...,\n",
       "           [0., 0., 0.,  ..., 0., 0., 0.],\n",
       "           [0., 0., 0.,  ..., 0., 0., 0.],\n",
       "           [0., 0., 0.,  ..., 0., 0., 0.]],\n",
       " \n",
       "          [[0., 0., 0.,  ..., 0., 0., 0.],\n",
       "           [0., 0., 0.,  ..., 0., 0., 0.],\n",
       "           [0., 0., 0.,  ..., 0., 0., 0.],\n",
       "           ...,\n",
       "           [0., 0., 0.,  ..., 0., 0., 0.],\n",
       "           [0., 0., 0.,  ..., 0., 0., 0.],\n",
       "           [0., 0., 0.,  ..., 0., 0., 0.]]],\n",
       " \n",
       " \n",
       "         [[[0., 0., 0.,  ..., 0., 0., 0.],\n",
       "           [0., 0., 0.,  ..., 0., 0., 0.],\n",
       "           [0., 0., 0.,  ..., 0., 0., 0.],\n",
       "           ...,\n",
       "           [0., 0., 0.,  ..., 0., 0., 0.],\n",
       "           [0., 0., 0.,  ..., 0., 0., 0.],\n",
       "           [0., 0., 0.,  ..., 0., 0., 0.]],\n",
       " \n",
       "          [[0., 0., 0.,  ..., 0., 0., 0.],\n",
       "           [0., 0., 0.,  ..., 0., 0., 0.],\n",
       "           [0., 0., 0.,  ..., 0., 0., 0.],\n",
       "           ...,\n",
       "           [0., 0., 0.,  ..., 0., 0., 0.],\n",
       "           [0., 0., 0.,  ..., 0., 0., 0.],\n",
       "           [0., 0., 0.,  ..., 0., 0., 0.]],\n",
       " \n",
       "          [[0., 0., 0.,  ..., 0., 0., 0.],\n",
       "           [0., 0., 0.,  ..., 0., 0., 0.],\n",
       "           [0., 0., 0.,  ..., 0., 0., 0.],\n",
       "           ...,\n",
       "           [0., 0., 0.,  ..., 0., 0., 0.],\n",
       "           [0., 0., 0.,  ..., 0., 0., 0.],\n",
       "           [0., 0., 0.,  ..., 0., 0., 0.]]],\n",
       " \n",
       " \n",
       "         [[[0., 0., 0.,  ..., 0., 0., 0.],\n",
       "           [0., 0., 0.,  ..., 0., 0., 0.],\n",
       "           [0., 0., 0.,  ..., 0., 0., 0.],\n",
       "           ...,\n",
       "           [0., 0., 0.,  ..., 0., 0., 0.],\n",
       "           [0., 0., 0.,  ..., 0., 0., 0.],\n",
       "           [0., 0., 0.,  ..., 0., 0., 0.]],\n",
       " \n",
       "          [[0., 0., 0.,  ..., 0., 0., 0.],\n",
       "           [0., 0., 0.,  ..., 0., 0., 0.],\n",
       "           [0., 0., 0.,  ..., 0., 0., 0.],\n",
       "           ...,\n",
       "           [0., 0., 0.,  ..., 0., 0., 0.],\n",
       "           [0., 0., 0.,  ..., 0., 0., 0.],\n",
       "           [0., 0., 0.,  ..., 0., 0., 0.]],\n",
       " \n",
       "          [[0., 0., 0.,  ..., 0., 0., 0.],\n",
       "           [0., 0., 0.,  ..., 0., 0., 0.],\n",
       "           [0., 0., 0.,  ..., 0., 0., 0.],\n",
       "           ...,\n",
       "           [0., 0., 0.,  ..., 0., 0., 0.],\n",
       "           [0., 0., 0.,  ..., 0., 0., 0.],\n",
       "           [0., 0., 0.,  ..., 0., 0., 0.]]]]),\n",
       " tensor([1, 1, 1, 0, 1, 0, 1, 0, 0, 1, 0, 0, 0, 0, 0, 0, 0, 0, 1, 0, 1, 1, 1, 1,\n",
       "         1, 1, 1, 1, 1, 1, 1, 0])]"
      ]
     },
     "execution_count": 5,
     "metadata": {},
     "output_type": "execute_result"
    }
   ],
   "source": [
    "next(iter(train_loader))"
   ]
  },
  {
   "cell_type": "code",
   "execution_count": 6,
   "id": "f6b67dfd",
   "metadata": {
    "execution": {
     "iopub.execute_input": "2024-12-14T08:46:32.383960Z",
     "iopub.status.busy": "2024-12-14T08:46:32.383668Z",
     "iopub.status.idle": "2024-12-14T08:46:32.392816Z",
     "shell.execute_reply": "2024-12-14T08:46:32.392051Z"
    },
    "papermill": {
     "duration": 0.016125,
     "end_time": "2024-12-14T08:46:32.394900",
     "exception": false,
     "start_time": "2024-12-14T08:46:32.378775",
     "status": "completed"
    },
    "tags": []
   },
   "outputs": [],
   "source": [
    "class MalariaCNN(nn.Module):\n",
    "    def __init__(self):\n",
    "        super(MalariaCNN, self).__init__()\n",
    "        self.conv_layer = nn.Sequential(\n",
    "            # Conv Layer 1\n",
    "            nn.Conv2d(3, 32, kernel_size=3, padding=1),\n",
    "            nn.BatchNorm2d(32),\n",
    "            nn.ReLU(),\n",
    "            nn.MaxPool2d(2),\n",
    "\n",
    "            # Conv Layer 2\n",
    "            nn.Conv2d(32, 64, kernel_size=3, padding=1),\n",
    "            nn.BatchNorm2d(64),\n",
    "            nn.ReLU(),\n",
    "            nn.MaxPool2d(2),\n",
    "\n",
    "            # Conv Layer 3\n",
    "            nn.Conv2d(64, 128, kernel_size=3, padding=1),\n",
    "            nn.BatchNorm2d(128),\n",
    "            nn.ReLU(),\n",
    "            nn.MaxPool2d(2),\n",
    "\n",
    "            # Conv Layer 4\n",
    "            #nn.Conv2d(128, 256, kernel_size=3, padding=1),\n",
    "            #nn.BatchNorm2d(256),\n",
    "            #nn.ReLU(),\n",
    "            #nn.MaxPool2d(2)\n",
    "        )\n",
    "        \n",
    "        self.fc_layer = nn.Sequential(\n",
    "            nn.Dropout(0.5),\n",
    "            nn.Linear(128 * 8 * 8 * 4, 512),\n",
    "            nn.ReLU(),\n",
    "            nn.Dropout(0.5),\n",
    "            nn.Linear(512, 2)  # 2 classes: Parasitized and Uninfected\n",
    "        )\n",
    "        \n",
    "    def forward(self, x):\n",
    "        x = self.conv_layer(x)\n",
    "        x = x.view(x.size(0), -1)  # Flatten\n",
    "        x = self.fc_layer(x)\n",
    "        return x"
   ]
  },
  {
   "cell_type": "code",
   "execution_count": 7,
   "id": "014f0f62",
   "metadata": {
    "execution": {
     "iopub.execute_input": "2024-12-14T08:46:32.406592Z",
     "iopub.status.busy": "2024-12-14T08:46:32.406282Z",
     "iopub.status.idle": "2024-12-14T08:46:32.630954Z",
     "shell.execute_reply": "2024-12-14T08:46:32.630095Z"
    },
    "papermill": {
     "duration": 0.232955,
     "end_time": "2024-12-14T08:46:32.633286",
     "exception": false,
     "start_time": "2024-12-14T08:46:32.400331",
     "status": "completed"
    },
    "tags": []
   },
   "outputs": [],
   "source": [
    "# Initialize the model\n",
    "model = MalariaCNN().to(device)\n",
    "\n",
    "# Define loss function\n",
    "criterion = nn.CrossEntropyLoss()\n",
    "\n",
    "# Define optimizer\n",
    "optimizer = optim.Adam(model.parameters(), lr=0.0001)"
   ]
  },
  {
   "cell_type": "code",
   "execution_count": 8,
   "id": "ea6a841d",
   "metadata": {
    "execution": {
     "iopub.execute_input": "2024-12-14T08:46:32.641572Z",
     "iopub.status.busy": "2024-12-14T08:46:32.640899Z",
     "iopub.status.idle": "2024-12-14T08:46:32.648844Z",
     "shell.execute_reply": "2024-12-14T08:46:32.647994Z"
    },
    "papermill": {
     "duration": 0.01376,
     "end_time": "2024-12-14T08:46:32.650392",
     "exception": false,
     "start_time": "2024-12-14T08:46:32.636632",
     "status": "completed"
    },
    "tags": []
   },
   "outputs": [],
   "source": [
    "from tqdm import tqdm\n",
    "\n",
    "def train_model(model, train_loader, criterion, optimizer, num_epochs=10):\n",
    "    model.train()  # Set model to training mode\n",
    "    for epoch in range(num_epochs):\n",
    "        running_loss = 0.0\n",
    "        # Wrap the train_loader with tqdm to display a progress bar\n",
    "        for inputs, labels in tqdm(train_loader, desc=f'Epoch {epoch+1}/{num_epochs}'):\n",
    "            inputs, labels = inputs.to(device), labels.to(device)\n",
    "\n",
    "            # Zero the parameter gradients\n",
    "            optimizer.zero_grad()\n",
    "\n",
    "            # Forward pass\n",
    "            outputs = model(inputs)\n",
    "            loss = criterion(outputs, labels)\n",
    "\n",
    "            # Backward pass and optimize\n",
    "            loss.backward()\n",
    "            optimizer.step()\n",
    "\n",
    "            running_loss += loss.item() * inputs.size(0)\n",
    "\n",
    "        epoch_loss = running_loss / len(train_loader.dataset)\n",
    "        print(f'Epoch [{epoch+1}/{num_epochs}], Loss: {epoch_loss:.4f}')"
   ]
  },
  {
   "cell_type": "code",
   "execution_count": 9,
   "id": "ad848406",
   "metadata": {
    "execution": {
     "iopub.execute_input": "2024-12-14T08:46:32.657688Z",
     "iopub.status.busy": "2024-12-14T08:46:32.657102Z",
     "iopub.status.idle": "2024-12-14T08:46:32.664075Z",
     "shell.execute_reply": "2024-12-14T08:46:32.663294Z"
    },
    "papermill": {
     "duration": 0.013171,
     "end_time": "2024-12-14T08:46:32.666382",
     "exception": false,
     "start_time": "2024-12-14T08:46:32.653211",
     "status": "completed"
    },
    "tags": []
   },
   "outputs": [],
   "source": [
    "def evaluate_model(model, test_loader):\n",
    "    model.eval()  # Set model to evaluation mode\n",
    "    correct = 0\n",
    "    total = 0\n",
    "    with torch.no_grad():\n",
    "        for inputs, labels in test_loader:\n",
    "            inputs, labels = inputs.to(device), labels.to(device)\n",
    "            outputs = model(inputs)\n",
    "            _, predicted = torch.max(outputs, 1)  # Get the class with highest score\n",
    "            total += labels.size(0)\n",
    "            correct += (predicted == labels).sum().item()\n",
    "\n",
    "    accuracy = 100 * correct / total\n",
    "    print(f'Test Accuracy: {accuracy:.2f}%')"
   ]
  },
  {
   "cell_type": "code",
   "execution_count": 10,
   "id": "dbdab5c3",
   "metadata": {
    "execution": {
     "iopub.execute_input": "2024-12-14T08:46:32.677893Z",
     "iopub.status.busy": "2024-12-14T08:46:32.677653Z",
     "iopub.status.idle": "2024-12-14T08:54:29.407165Z",
     "shell.execute_reply": "2024-12-14T08:54:29.405828Z"
    },
    "papermill": {
     "duration": 476.7372,
     "end_time": "2024-12-14T08:54:29.408981",
     "exception": false,
     "start_time": "2024-12-14T08:46:32.671781",
     "status": "completed"
    },
    "tags": []
   },
   "outputs": [
    {
     "name": "stderr",
     "output_type": "stream",
     "text": [
      "Epoch 1/4: 100%|██████████| 125/125 [01:57<00:00,  1.06it/s]\n"
     ]
    },
    {
     "name": "stdout",
     "output_type": "stream",
     "text": [
      "Epoch [1/4], Loss: 0.6130\n"
     ]
    },
    {
     "name": "stderr",
     "output_type": "stream",
     "text": [
      "Epoch 2/4: 100%|██████████| 125/125 [01:56<00:00,  1.07it/s]\n"
     ]
    },
    {
     "name": "stdout",
     "output_type": "stream",
     "text": [
      "Epoch [2/4], Loss: 0.4323\n"
     ]
    },
    {
     "name": "stderr",
     "output_type": "stream",
     "text": [
      "Epoch 3/4: 100%|██████████| 125/125 [01:56<00:00,  1.08it/s]\n"
     ]
    },
    {
     "name": "stdout",
     "output_type": "stream",
     "text": [
      "Epoch [3/4], Loss: 0.3046\n"
     ]
    },
    {
     "name": "stderr",
     "output_type": "stream",
     "text": [
      "Epoch 4/4: 100%|██████████| 125/125 [01:55<00:00,  1.08it/s]\n"
     ]
    },
    {
     "name": "stdout",
     "output_type": "stream",
     "text": [
      "Epoch [4/4], Loss: 0.2160\n",
      "Test Accuracy: 91.80%\n"
     ]
    }
   ],
   "source": [
    "# Number of epochs\n",
    "num_epochs = 4\n",
    "\n",
    "# Train the model\n",
    "train_model(model, train_loader, criterion, optimizer, num_epochs)\n",
    "\n",
    "# Evaluate the model\n",
    "evaluate_model(model, test_loader)"
   ]
  },
  {
   "cell_type": "code",
   "execution_count": 11,
   "id": "af1a896d",
   "metadata": {
    "execution": {
     "iopub.execute_input": "2024-12-14T08:54:29.462633Z",
     "iopub.status.busy": "2024-12-14T08:54:29.462011Z",
     "iopub.status.idle": "2024-12-14T08:54:29.466298Z",
     "shell.execute_reply": "2024-12-14T08:54:29.465561Z"
    },
    "papermill": {
     "duration": 0.033114,
     "end_time": "2024-12-14T08:54:29.467962",
     "exception": false,
     "start_time": "2024-12-14T08:54:29.434848",
     "status": "completed"
    },
    "tags": []
   },
   "outputs": [],
   "source": [
    "a = model"
   ]
  },
  {
   "cell_type": "code",
   "execution_count": 12,
   "id": "1a17bb7a",
   "metadata": {
    "execution": {
     "iopub.execute_input": "2024-12-14T08:54:29.518928Z",
     "iopub.status.busy": "2024-12-14T08:54:29.518634Z",
     "iopub.status.idle": "2024-12-14T08:54:31.725943Z",
     "shell.execute_reply": "2024-12-14T08:54:31.725264Z"
    },
    "papermill": {
     "duration": 2.234997,
     "end_time": "2024-12-14T08:54:31.727837",
     "exception": false,
     "start_time": "2024-12-14T08:54:29.492840",
     "status": "completed"
    },
    "tags": []
   },
   "outputs": [],
   "source": [
    "import torch\n",
    "import numpy as np\n",
    "import seaborn as sns\n",
    "import matplotlib.pyplot as plt\n",
    "from sklearn.metrics import (\n",
    "    confusion_matrix,\n",
    "    classification_report,\n",
    "    accuracy_score,\n",
    "    precision_score,\n",
    "    recall_score,\n",
    "    f1_score\n",
    ")\n",
    "\n",
    "def evaluate_model_detailed(model, test_loader):\n",
    "    model.eval()\n",
    "    all_preds = []\n",
    "    all_labels = []\n",
    "    with torch.no_grad():\n",
    "        for inputs, labels in test_loader:\n",
    "            inputs, labels = inputs.to(device), labels.to(device)\n",
    "            outputs = model(inputs)\n",
    "            _, predicted = torch.max(outputs, 1)\n",
    "            all_preds.extend(predicted.cpu().numpy())\n",
    "            all_labels.extend(labels.cpu().numpy())\n",
    "\n",
    "    # Compute metrics\n",
    "    cm = confusion_matrix(all_labels, all_preds)\n",
    "    accuracy = accuracy_score(all_labels, all_preds)\n",
    "    precision = precision_score(all_labels, all_preds, average='binary', pos_label=1)\n",
    "    recall = recall_score(all_labels, all_preds, average='binary', pos_label=1)\n",
    "    f1 = f1_score(all_labels, all_preds, average='binary', pos_label=1)\n",
    "    \n",
    "    # Sensitivity (Recall for positive class)\n",
    "    sensitivity = recall\n",
    "    # Specificity (Recall for negative class)\n",
    "    tn, fp, fn, tp = cm.ravel()\n",
    "    specificity = tn / (tn + fp)\n",
    "\n",
    "    print(\"Confusion Matrix:\")\n",
    "    print(cm)\n",
    "    print(\"\\nClassification Report:\")\n",
    "    print(classification_report(all_labels, all_preds, target_names=['Parasitized', 'Uninfected']))\n",
    "\n",
    "    print(f\"Accuracy: {accuracy:.2f}\")\n",
    "    print(f\"Precision: {precision:.2f}\")\n",
    "    print(f\"Recall (Sensitivity): {sensitivity:.2f}\")\n",
    "    print(f\"Specificity: {specificity:.2f}\")\n",
    "    print(f\"F1 Score: {f1:.2f}\")\n",
    "\n",
    "    # Plot Confusion Matrix\n",
    "    plt.figure(figsize=(8, 6))\n",
    "    sns.heatmap(cm, annot=True, fmt='d', cmap='Blues', xticklabels=['Parasitized', 'Uninfected'], yticklabels=['Parasitized', 'Uninfected'])\n",
    "    plt.xlabel('Predicted Labels')\n",
    "    plt.ylabel('True Labels')\n",
    "    plt.title('Confusion Matrix')\n",
    "    plt.show()\n",
    "\n",
    "    # Plot metrics\n",
    "    metrics = {\n",
    "        \"Accuracy\": accuracy,\n",
    "        \"Precision\": precision,\n",
    "        \"Recall (Sensitivity)\": sensitivity,\n",
    "        \"Specificity\": specificity,\n",
    "        \"F1 Score\": f1\n",
    "    }\n",
    "    \n",
    "    plt.figure(figsize=(10, 6))\n",
    "    plt.bar(metrics.keys(), metrics.values(), color='skyblue')\n",
    "    plt.ylabel('Score')\n",
    "    plt.ylim(0, 1)\n",
    "    plt.title('Evaluation Metrics')\n",
    "    plt.show()\n"
   ]
  },
  {
   "cell_type": "code",
   "execution_count": 13,
   "id": "fd6d2e18",
   "metadata": {
    "execution": {
     "iopub.execute_input": "2024-12-14T08:54:31.778833Z",
     "iopub.status.busy": "2024-12-14T08:54:31.778465Z",
     "iopub.status.idle": "2024-12-14T08:54:42.234704Z",
     "shell.execute_reply": "2024-12-14T08:54:42.233788Z"
    },
    "papermill": {
     "duration": 10.484937,
     "end_time": "2024-12-14T08:54:42.237913",
     "exception": false,
     "start_time": "2024-12-14T08:54:31.752976",
     "status": "completed"
    },
    "tags": []
   },
   "outputs": [
    {
     "name": "stdout",
     "output_type": "stream",
     "text": [
      "Confusion Matrix:\n",
      "[[448  56]\n",
      " [ 26 470]]\n",
      "\n",
      "Classification Report:\n",
      "              precision    recall  f1-score   support\n",
      "\n",
      " Parasitized       0.95      0.89      0.92       504\n",
      "  Uninfected       0.89      0.95      0.92       496\n",
      "\n",
      "    accuracy                           0.92      1000\n",
      "   macro avg       0.92      0.92      0.92      1000\n",
      "weighted avg       0.92      0.92      0.92      1000\n",
      "\n",
      "Accuracy: 0.92\n",
      "Precision: 0.89\n",
      "Recall (Sensitivity): 0.95\n",
      "Specificity: 0.89\n",
      "F1 Score: 0.92\n"
     ]
    },
    {
     "data": {
      "image/png": "[encoded data removed]",
      "text/plain": [
       "<Figure size 800x600 with 2 Axes>"
      ]
     },
     "metadata": {},
     "output_type": "display_data"
    },
    {
     "data": {
      "image/png": "[encoded data removed]",
      "text/plain": [
       "<Figure size 1000x600 with 1 Axes>"
      ]
     },
     "metadata": {},
     "output_type": "display_data"
    }
   ],
   "source": [
    "evaluate_model_detailed(model,test_loader)"
   ]
  }
 ],
 "metadata": {
  "kaggle": {
   "accelerator": "nvidiaTeslaT4",
   "dataSources": [
    {
     "datasetId": 87153,
     "sourceId": 200743,
     "sourceType": "datasetVersion"
    }
   ],
   "dockerImageVersionId": 30762,
   "isGpuEnabled": true,
   "isInternetEnabled": true,
   "language": "python",
   "sourceType": "notebook"
  },
  "kernelspec": {
   "display_name": "Python 3",
   "language": "python",
   "name": "python3"
  },
  "language_info": {
   "codemirror_mode": {
    "name": "ipython",
    "version": 3
   },
   "file_extension": ".py",
   "mimetype": "text/x-python",
   "name": "python",
   "nbconvert_exporter": "python",
   "pygments_lexer": "ipython3",
   "version": "3.10.14"
  },
  "papermill": {
   "default_parameters": {},
   "duration": 630.897209,
   "end_time": "2024-12-14T08:54:44.615295",
   "environment_variables": {},
   "exception": null,
   "input_path": "__notebook__.ipynb",
   "output_path": "__notebook__.ipynb",
   "parameters": {},
   "start_time": "2024-12-14T08:44:13.718086",
   "version": "2.6.0"
  }
 },
 "nbformat": 4,
 "nbformat_minor": 5
}
